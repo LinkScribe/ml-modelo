{
 "cells": [
  {
   "cell_type": "markdown",
   "metadata": {},
   "source": [
    "# LinkScribe"
   ]
  },
  {
   "cell_type": "markdown",
   "metadata": {},
   "source": [
    "## Data Exploration"
   ]
  },
  {
   "cell_type": "code",
   "execution_count": 1,
   "metadata": {},
   "outputs": [],
   "source": [
    "## Initial libreries for data exploration \n",
    "import matplotlib.pyplot as plt\n",
    "import pandas as pd\n",
    "import numpy as np "
   ]
  },
  {
   "cell_type": "code",
   "execution_count": 2,
   "metadata": {},
   "outputs": [],
   "source": [
    "# Reading the file and asigning the data to a varable \n",
    "Data = pd.read_csv(\"archive/website_classification.csv\", index_col = 0)"
   ]
  },
  {
   "cell_type": "code",
   "execution_count": 3,
   "metadata": {},
   "outputs": [
    {
     "name": "stdout",
     "output_type": "stream",
     "text": [
      "(1408, 3)\n"
     ]
    }
   ],
   "source": [
    "# Initial Matrix\n",
    "print(Data.shape)"
   ]
  },
  {
   "cell_type": "code",
   "execution_count": 4,
   "metadata": {},
   "outputs": [
    {
     "name": "stdout",
     "output_type": "stream",
     "text": [
      "website_url             object\n",
      "cleaned_website_text    object\n",
      "Category                object\n",
      "dtype: object\n"
     ]
    }
   ],
   "source": [
    "# types of data \n",
    "print(Data.dtypes)"
   ]
  },
  {
   "cell_type": "code",
   "execution_count": 5,
   "metadata": {},
   "outputs": [
    {
     "data": {
      "text/html": [
       "<div>\n",
       "<style scoped>\n",
       "    .dataframe tbody tr th:only-of-type {\n",
       "        vertical-align: middle;\n",
       "    }\n",
       "\n",
       "    .dataframe tbody tr th {\n",
       "        vertical-align: top;\n",
       "    }\n",
       "\n",
       "    .dataframe thead th {\n",
       "        text-align: right;\n",
       "    }\n",
       "</style>\n",
       "<table border=\"1\" class=\"dataframe\">\n",
       "  <thead>\n",
       "    <tr style=\"text-align: right;\">\n",
       "      <th></th>\n",
       "      <th>website_url</th>\n",
       "      <th>cleaned_website_text</th>\n",
       "      <th>Category</th>\n",
       "    </tr>\n",
       "  </thead>\n",
       "  <tbody>\n",
       "    <tr>\n",
       "      <th>0</th>\n",
       "      <td>https://www.booking.com/index.html?aid=1743217</td>\n",
       "      <td>official site good hotel accommodation big sav...</td>\n",
       "      <td>Travel</td>\n",
       "    </tr>\n",
       "    <tr>\n",
       "      <th>1</th>\n",
       "      <td>https://travelsites.com/expedia/</td>\n",
       "      <td>expedia hotel book sites like use vacation wor...</td>\n",
       "      <td>Travel</td>\n",
       "    </tr>\n",
       "    <tr>\n",
       "      <th>2</th>\n",
       "      <td>https://travelsites.com/tripadvisor/</td>\n",
       "      <td>tripadvisor hotel book sites like previously d...</td>\n",
       "      <td>Travel</td>\n",
       "    </tr>\n",
       "    <tr>\n",
       "      <th>3</th>\n",
       "      <td>https://www.momondo.in/?ispredir=true</td>\n",
       "      <td>cheap flights search compare flights momondo f...</td>\n",
       "      <td>Travel</td>\n",
       "    </tr>\n",
       "    <tr>\n",
       "      <th>4</th>\n",
       "      <td>https://www.ebookers.com/?AFFCID=EBOOKERS-UK.n...</td>\n",
       "      <td>bot create free account create free account si...</td>\n",
       "      <td>Travel</td>\n",
       "    </tr>\n",
       "  </tbody>\n",
       "</table>\n",
       "</div>"
      ],
      "text/plain": [
       "                                         website_url  \\\n",
       "0     https://www.booking.com/index.html?aid=1743217   \n",
       "1                   https://travelsites.com/expedia/   \n",
       "2               https://travelsites.com/tripadvisor/   \n",
       "3              https://www.momondo.in/?ispredir=true   \n",
       "4  https://www.ebookers.com/?AFFCID=EBOOKERS-UK.n...   \n",
       "\n",
       "                                cleaned_website_text Category  \n",
       "0  official site good hotel accommodation big sav...   Travel  \n",
       "1  expedia hotel book sites like use vacation wor...   Travel  \n",
       "2  tripadvisor hotel book sites like previously d...   Travel  \n",
       "3  cheap flights search compare flights momondo f...   Travel  \n",
       "4  bot create free account create free account si...   Travel  "
      ]
     },
     "execution_count": 5,
     "metadata": {},
     "output_type": "execute_result"
    }
   ],
   "source": [
    "Data.head()"
   ]
  },
  {
   "cell_type": "code",
   "execution_count": 6,
   "metadata": {},
   "outputs": [
    {
     "data": {
      "text/plain": [
       "16"
      ]
     },
     "execution_count": 6,
     "metadata": {},
     "output_type": "execute_result"
    }
   ],
   "source": [
    "len(Data.Category.value_counts().index)"
   ]
  },
  {
   "cell_type": "code",
   "execution_count": 7,
   "metadata": {},
   "outputs": [
    {
     "data": {
      "image/png": "[encoded data removed]",
      "text/plain": [
       "<Figure size 640x480 with 1 Axes>"
      ]
     },
     "metadata": {},
     "output_type": "display_data"
    }
   ],
   "source": [
    "# Distribution among the different categories\n",
    "Data.Category.value_counts().plot.barh()\n",
    "plt.xlabel('Quantity')\n",
    "plt.grid('ON')\n",
    "plt.show()"
   ]
  },
  {
   "cell_type": "code",
   "execution_count": 8,
   "metadata": {},
   "outputs": [
    {
     "data": {
      "text/plain": [
       "1408"
      ]
     },
     "execution_count": 8,
     "metadata": {},
     "output_type": "execute_result"
    }
   ],
   "source": [
    "Data.website_url.count()"
   ]
  },
  {
   "cell_type": "code",
   "execution_count": 9,
   "metadata": {},
   "outputs": [
    {
     "data": {
      "text/plain": [
       "website_url\n",
       "1    1408\n",
       "Name: count, dtype: int64"
      ]
     },
     "execution_count": 9,
     "metadata": {},
     "output_type": "execute_result"
    }
   ],
   "source": [
    "Data.website_url.apply(lambda x : 1 if x.startswith('https://') or x.startswith('http://') else 0).value_counts() "
   ]
  },
  {
   "cell_type": "code",
   "execution_count": 10,
   "metadata": {},
   "outputs": [
    {
     "data": {
      "text/plain": [
       "0              www.booking.com\n",
       "1              travelsites.com\n",
       "2              travelsites.com\n",
       "3               www.momondo.in\n",
       "4             www.ebookers.com\n",
       "                 ...          \n",
       "1403          www.oldwomen.org\n",
       "1404       www.webcamslave.com\n",
       "1405       www.buyeuroporn.com\n",
       "1406    www.analdreamhouse.com\n",
       "1407    www.world-sex-news.com\n",
       "Name: website_url_domain_and_extension, Length: 1408, dtype: object"
      ]
     },
     "execution_count": 10,
     "metadata": {},
     "output_type": "execute_result"
    }
   ],
   "source": [
    "\n",
    "# Separating the URL from it's extention and creating a new column\n",
    "Data['website_url_domain_and_extension'] = Data.website_url.apply(lambda x : x.split('/')[2])\n",
    "Data['website_url_domain_and_extension']"
   ]
  },
  {
   "cell_type": "code",
   "execution_count": 11,
   "metadata": {},
   "outputs": [
    {
     "data": {
      "text/html": [
       "<div>\n",
       "<style scoped>\n",
       "    .dataframe tbody tr th:only-of-type {\n",
       "        vertical-align: middle;\n",
       "    }\n",
       "\n",
       "    .dataframe tbody tr th {\n",
       "        vertical-align: top;\n",
       "    }\n",
       "\n",
       "    .dataframe thead th {\n",
       "        text-align: right;\n",
       "    }\n",
       "</style>\n",
       "<table border=\"1\" class=\"dataframe\">\n",
       "  <thead>\n",
       "    <tr style=\"text-align: right;\">\n",
       "      <th></th>\n",
       "      <th>website_url</th>\n",
       "      <th>cleaned_website_text</th>\n",
       "      <th>Category</th>\n",
       "      <th>website_url_domain_and_extension</th>\n",
       "    </tr>\n",
       "  </thead>\n",
       "  <tbody>\n",
       "    <tr>\n",
       "      <th>0</th>\n",
       "      <td>https://www.booking.com/index.html?aid=1743217</td>\n",
       "      <td>official site good hotel accommodation big sav...</td>\n",
       "      <td>Travel</td>\n",
       "      <td>www.booking.com</td>\n",
       "    </tr>\n",
       "    <tr>\n",
       "      <th>1</th>\n",
       "      <td>https://travelsites.com/expedia/</td>\n",
       "      <td>expedia hotel book sites like use vacation wor...</td>\n",
       "      <td>Travel</td>\n",
       "      <td>travelsites.com</td>\n",
       "    </tr>\n",
       "    <tr>\n",
       "      <th>2</th>\n",
       "      <td>https://travelsites.com/tripadvisor/</td>\n",
       "      <td>tripadvisor hotel book sites like previously d...</td>\n",
       "      <td>Travel</td>\n",
       "      <td>travelsites.com</td>\n",
       "    </tr>\n",
       "    <tr>\n",
       "      <th>3</th>\n",
       "      <td>https://www.momondo.in/?ispredir=true</td>\n",
       "      <td>cheap flights search compare flights momondo f...</td>\n",
       "      <td>Travel</td>\n",
       "      <td>www.momondo.in</td>\n",
       "    </tr>\n",
       "    <tr>\n",
       "      <th>4</th>\n",
       "      <td>https://www.ebookers.com/?AFFCID=EBOOKERS-UK.n...</td>\n",
       "      <td>bot create free account create free account si...</td>\n",
       "      <td>Travel</td>\n",
       "      <td>www.ebookers.com</td>\n",
       "    </tr>\n",
       "  </tbody>\n",
       "</table>\n",
       "</div>"
      ],
      "text/plain": [
       "                                         website_url  \\\n",
       "0     https://www.booking.com/index.html?aid=1743217   \n",
       "1                   https://travelsites.com/expedia/   \n",
       "2               https://travelsites.com/tripadvisor/   \n",
       "3              https://www.momondo.in/?ispredir=true   \n",
       "4  https://www.ebookers.com/?AFFCID=EBOOKERS-UK.n...   \n",
       "\n",
       "                                cleaned_website_text Category  \\\n",
       "0  official site good hotel accommodation big sav...   Travel   \n",
       "1  expedia hotel book sites like use vacation wor...   Travel   \n",
       "2  tripadvisor hotel book sites like previously d...   Travel   \n",
       "3  cheap flights search compare flights momondo f...   Travel   \n",
       "4  bot create free account create free account si...   Travel   \n",
       "\n",
       "  website_url_domain_and_extension  \n",
       "0                  www.booking.com  \n",
       "1                  travelsites.com  \n",
       "2                  travelsites.com  \n",
       "3                   www.momondo.in  \n",
       "4                 www.ebookers.com  "
      ]
     },
     "execution_count": 11,
     "metadata": {},
     "output_type": "execute_result"
    }
   ],
   "source": [
    "Data.head()"
   ]
  },
  {
   "cell_type": "markdown",
   "metadata": {},
   "source": [
    "## Sklearn Model "
   ]
  },
  {
   "cell_type": "markdown",
   "metadata": {},
   "source": [
    "Based on literature we are going to use this section to compare 4 of the most used classifiers. \n",
    "\n",
    "- Support Vector Machine\n",
    "- Decision Tree Classifier\n",
    "- Random Forest Classifier\n",
    "- AdaBoostClassifier\n",
    "- XGboost\n",
    "\n",
    "\n",
    "This clarifiers are going to be implemented using a Pipeline that is going to help the usage of TfidfVectorizer as a feature extraction transformer tool "
   ]
  },
  {
   "cell_type": "markdown",
   "metadata": {},
   "source": [
    "### Libreries and training methods "
   ]
  },
  {
   "cell_type": "code",
   "execution_count": 67,
   "metadata": {},
   "outputs": [],
   "source": [
    "# Global imports for all SKL models \n",
    "from sklearn.feature_extraction.text import TfidfVectorizer\n",
    "from sklearn.model_selection import train_test_split\n",
    "from sklearn.metrics import precision_recall_fscore_support, accuracy_score\n",
    "from sklearn.pipeline import Pipeline\n",
    "from sklearn.preprocessing import LabelEncoder\n",
    "from sklearn.calibration import CalibratedClassifierCV"
   ]
  },
  {
   "cell_type": "code",
   "execution_count": 50,
   "metadata": {},
   "outputs": [],
   "source": [
    "# Classifier Models\n",
    "from sklearn.svm import SVC\n",
    "from sklearn.tree import DecisionTreeClassifier\n",
    "from sklearn.ensemble import RandomForestClassifier\n",
    "from sklearn.ensemble import AdaBoostClassifier\n",
    "import xgboost as xgb\n",
    "\n",
    "\n",
    "import pickle\n",
    "from pathlib import Path\n",
    "import joblib"
   ]
  },
  {
   "cell_type": "markdown",
   "metadata": {},
   "source": [
    "Methods that is goint to contain the model in the pipeLine, show the metrics and seve the model according to the analysis. "
   ]
  },
  {
   "cell_type": "code",
   "execution_count": 141,
   "metadata": {},
   "outputs": [],
   "source": [
    "\"\"\"\n",
    "Project     :   Linkscribe\n",
    "Package     :   ML-DL Model \n",
    "Method      :   pipeLineClassf\n",
    "Author      :   jdmunoz\n",
    "\n",
    "Description :   This method will train and get scores from different ML \n",
    "                classifiers using a pipeline where the TfidfVectorizer() \n",
    "                is a constant for the training as it will only be used for NLP. \n",
    "\n",
    "Inputs      :   X_train, X_test, \n",
    "                y_train, y_test,\n",
    "                clf_name, clf_model,    --> Name of the classifier ex - classifiers = {'SVM': SVC()}\n",
    "                metric= None            --> Type of avg of the scores precision, recall and f1 by default None\n",
    "\n",
    "Modification History: \n",
    "*********************************************************\n",
    "Date            Author          Modification\n",
    "18-03-2024      jdmunoz         Creation\n",
    "*********************************************************\n",
    "\"\"\"\n",
    "def pipeLineClassf( X_train, X_test, \n",
    "                    y_train, y_test,  \n",
    "                    clf_name, clf_model, \n",
    "                    metric= None):\n",
    "\n",
    "    #Pipe line for each Classifier\n",
    "    pipeline = Pipeline([\n",
    "        ('Tfidf', TfidfVectorizer()),\n",
    "        (clf_name, clf_model)\n",
    "    ])\n",
    "\n",
    "    #Train and evaluate the model \n",
    "    pipeline.fit(X_train, y_train)      \n",
    "    predictions = pipeline.predict(X_test)\n",
    "\n",
    "    # Obtaining the scores \n",
    "    accuracy = accuracy_score(y_test, predictions)\n",
    "    precision, recall,f1,_ = precision_recall_fscore_support(y_test, predictions, average=metric)\n",
    "    \n",
    "    # Result dictionary\n",
    "    result = {\n",
    "        'Accuracy': accuracy,\n",
    "        'Precision': precision,\n",
    "        'Recall': recall,\n",
    "        'F1 Score': f1\n",
    "    }   \n",
    "\n",
    "    return result, pipeline\n",
    "\n",
    "\"\"\"\n",
    "Project     :   Linkscribe\n",
    "Package     :   ML-DL Model \n",
    "Method      :   saveBestModel   \n",
    "Author      :   jdmunoz\n",
    "\n",
    "Description :   This method saves the best ML model according to the chose metric\n",
    "\n",
    "Inputs      :   models              --> Dictionary with the models name and metrics result \n",
    "                metric='accuracy'   --> Metric that is going to evaluate the best one to be saved,\n",
    "                                        by default the metric is going to be 'accuracy'\n",
    "\n",
    "Modification History: \n",
    "*********************************************************\n",
    "Date            Author          Modification\n",
    "18-03-2024      jdmunoz         Creation\n",
    "*********************************************************\n",
    "\"\"\"\n",
    "def saveBestModel(models, pipelines, metric='accuracy'):\n",
    "\n",
    "    # Creating the saving directory \n",
    "    MODELS_DIR = Path(\"models/\")\n",
    "    SKLEARN_MODEL_PATH = MODELS_DIR.joinpath(\"sklearn/Linkscribe.pk\")\n",
    "    SKLEARN_MODEL_PATH.parent.mkdir(exist_ok=True, parents=True)    \n",
    "    \n",
    "    best_metric_value = None\n",
    "    best_model = None\n",
    "\n",
    "    # Getting the best model according to input metric\n",
    "    for model_clf, model_result in models.items():\n",
    "        metric_value = model_result[metric]\n",
    "        if best_metric_value is None or metric_value > best_metric_value:\n",
    "            best_metric_value = metric_value\n",
    "            best_model = pipelines[model_clf]\n",
    "\n",
    "    # Saving the model to disk\n",
    "    pickle.dump(\n",
    "        best_model, open(SKLEARN_MODEL_PATH, \"wb\")\n",
    "    )  # export the model to a file so we can use it later\n",
    "      \n"
   ]
  },
  {
   "cell_type": "markdown",
   "metadata": {},
   "source": [
    "Defining X and Y variables from the dataset"
   ]
  },
  {
   "cell_type": "code",
   "execution_count": 189,
   "metadata": {},
   "outputs": [],
   "source": [
    "# x and Y variables for split \n",
    "X = Data.cleaned_website_text\n",
    "Y = Data.Category"
   ]
  },
  {
   "cell_type": "code",
   "execution_count": 175,
   "metadata": {},
   "outputs": [],
   "source": [
    "# output encoding\n",
    "le = LabelEncoder()\n",
    "Y = le.fit_transform(Y)"
   ]
  },
  {
   "cell_type": "code",
   "execution_count": 134,
   "metadata": {},
   "outputs": [],
   "source": [
    "# splitting the Dataset in train and test\n",
    "RANDOM_SEED = 42\n",
    "X_train, X_test, y_train, y_test = train_test_split(X, Y, test_size = 0.3, random_state = RANDOM_SEED) "
   ]
  },
  {
   "cell_type": "code",
   "execution_count": 135,
   "metadata": {},
   "outputs": [],
   "source": [
    "# Classifiers dictionary \n",
    "classifiers = {\n",
    "    'SVM_linear': SVC(kernel='linear')\n",
    "    ,'SVM_RBF': SVC(kernel='rbf')\n",
    "    ,'SVM_poly':SVC(kernel='poly', degree=3)\n",
    "    ,'Decision Tree': DecisionTreeClassifier( random_state=1)\n",
    "    ,'Random Forest': RandomForestClassifier(n_estimators=100, random_state=42)   \n",
    "    ,'AdaBoostClassifier': AdaBoostClassifier(estimator= DecisionTreeClassifier(random_state=1),\n",
    "                                            n_estimators    =   500,\n",
    "                                            learning_rate   =   0.1,\n",
    "                                            random_state    =   1)\n",
    "    ,'xgboost': xgb.XGBClassifier()\n",
    "}"
   ]
  },
  {
   "cell_type": "code",
   "execution_count": 140,
   "metadata": {},
   "outputs": [
    {
     "name": "stderr",
     "output_type": "stream",
     "text": [
      "/home/jdmunoz/Documents/Especia_AI/semestre_2/Proyectos/LinkScribe/Model/.venv/lib/python3.10/site-packages/sklearn/metrics/_classification.py:1509: UndefinedMetricWarning: Precision is ill-defined and being set to 0.0 in labels with no predicted samples. Use `zero_division` parameter to control this behavior.\n",
      "  _warn_prf(average, modifier, f\"{metric.capitalize()} is\", len(result))\n",
      "/home/jdmunoz/Documents/Especia_AI/semestre_2/Proyectos/LinkScribe/Model/.venv/lib/python3.10/site-packages/sklearn/metrics/_classification.py:1509: UndefinedMetricWarning: Precision is ill-defined and being set to 0.0 in labels with no predicted samples. Use `zero_division` parameter to control this behavior.\n",
      "  _warn_prf(average, modifier, f\"{metric.capitalize()} is\", len(result))\n",
      "/home/jdmunoz/Documents/Especia_AI/semestre_2/Proyectos/LinkScribe/Model/.venv/lib/python3.10/site-packages/sklearn/metrics/_classification.py:1509: UndefinedMetricWarning: Precision is ill-defined and being set to 0.0 in labels with no predicted samples. Use `zero_division` parameter to control this behavior.\n",
      "  _warn_prf(average, modifier, f\"{metric.capitalize()} is\", len(result))\n",
      "/home/jdmunoz/Documents/Especia_AI/semestre_2/Proyectos/LinkScribe/Model/.venv/lib/python3.10/site-packages/sklearn/metrics/_classification.py:1509: UndefinedMetricWarning: Precision is ill-defined and being set to 0.0 in labels with no predicted samples. Use `zero_division` parameter to control this behavior.\n",
      "  _warn_prf(average, modifier, f\"{metric.capitalize()} is\", len(result))\n",
      "/home/jdmunoz/Documents/Especia_AI/semestre_2/Proyectos/LinkScribe/Model/.venv/lib/python3.10/site-packages/sklearn/ensemble/_weight_boosting.py:519: FutureWarning: The SAMME.R algorithm (the default) is deprecated and will be removed in 1.6. Use the SAMME algorithm to circumvent this warning.\n",
      "  warnings.warn(\n"
     ]
    },
    {
     "name": "stdout",
     "output_type": "stream",
     "text": [
      "Model: SVM_linear\n",
      "Accuracy: 0.9078\n",
      "Precision: 0.9127\n",
      "Recall: 0.9078\n",
      "F1 Score: 0.9053\n",
      "\n",
      "\n",
      "Model: SVM_RBF\n",
      "Accuracy: 0.8818\n",
      "Precision: 0.9050\n",
      "Recall: 0.8818\n",
      "F1 Score: 0.8823\n",
      "\n",
      "\n",
      "Model: SVM_poly\n",
      "Accuracy: 0.3877\n",
      "Precision: 0.9096\n",
      "Recall: 0.3877\n",
      "F1 Score: 0.4783\n",
      "\n",
      "\n",
      "Model: Decision Tree\n",
      "Accuracy: 0.6028\n",
      "Precision: 0.6054\n",
      "Recall: 0.6028\n",
      "F1 Score: 0.5990\n",
      "\n",
      "\n",
      "Model: Random Forest\n",
      "Accuracy: 0.8345\n",
      "Precision: 0.8263\n",
      "Recall: 0.8345\n",
      "F1 Score: 0.8270\n",
      "\n",
      "\n",
      "Model: AdaBoostClassifier\n",
      "Accuracy: 0.6005\n",
      "Precision: 0.6206\n",
      "Recall: 0.6005\n",
      "F1 Score: 0.6029\n",
      "\n",
      "\n",
      "Model: xgboost\n",
      "Accuracy: 0.8014\n",
      "Precision: 0.8057\n",
      "Recall: 0.8014\n",
      "F1 Score: 0.7982\n",
      "\n",
      "\n"
     ]
    }
   ],
   "source": [
    "# Results dictionary to be saved \n",
    "results = {}\n",
    "pipelines = {}\n",
    "\n",
    "for clf_name, clf in classifiers.items():\n",
    "    result, pipeline = (pipeLineClassf(X_train, X_test, y_train, y_test, clf_name, clf, metric='weighted'))\n",
    "    results[clf_name] = result\n",
    "    pipelines[clf_name] = pipeline\n",
    "\n",
    "# Display the results\n",
    "for clf_name, metrics in results.items():\n",
    "    print(f\"Model: {clf_name}\")\n",
    "    for metric, value in metrics.items():\n",
    "        print(f\"{metric}: {value:.4f}\")\n",
    "    print(\"\\n\")"
   ]
  },
  {
   "cell_type": "code",
   "execution_count": 142,
   "metadata": {},
   "outputs": [],
   "source": [
    "#save the best model according to the most important metric\n",
    "saveBestModel(results, pipelines, metric='Accuracy')"
   ]
  },
  {
   "cell_type": "markdown",
   "metadata": {},
   "source": [
    "### Saved Model test "
   ]
  },
  {
   "cell_type": "code",
   "execution_count": 148,
   "metadata": {},
   "outputs": [
    {
     "name": "stdout",
     "output_type": "stream",
     "text": [
      "0.9078014184397163\n"
     ]
    }
   ],
   "source": [
    "# Loading the model \n",
    "loaded_model = pickle.load(open('models/sklearn/Linkscribe.pk', 'rb'))\n",
    "\n",
    "predictions = loaded_model.predict(X_test)\n",
    "accuracy = accuracy_score(y_test, predictions)\n",
    "print(accuracy)"
   ]
  },
  {
   "cell_type": "code",
   "execution_count": 150,
   "metadata": {},
   "outputs": [],
   "source": [
    "# Web scraping, pickle imports\n",
    "import requests\n",
    "from bs4 import BeautifulSoup\n",
    "import pickle\n",
    "from time import sleep"
   ]
  },
  {
   "cell_type": "code",
   "execution_count": 215,
   "metadata": {},
   "outputs": [
    {
     "name": "stdout",
     "output_type": "stream",
     "text": [
      "Top 100 easy dinner recipes\n",
      "Log In\n",
      "|\n",
      "Sign Up\n",
      "Recipes\n",
      "Dinner\n",
      "Quick & Easy\n",
      "Healthy\n",
      "Baking\n",
      "Entertaining\n",
      "Test Kitchen\n",
      "Food News\n",
      "The Savvy Dinner Plan\n",
      "Video\n",
      "Win!\n",
      "More\n",
      "The Savvy Dinner Plan\n",
      "Video\n",
      "Win!\n",
      "Top 100 easy dinner recipes\n",
      "When you need to feed the family or kids, these are the easy dinner recipes you turn to time and time again. With lots of healthy, quick, vegetarian, chicken, and budget-friendly ideas, there’s something for everyone..\n",
      "1\n",
      "Australia's favourite zucchini slice recipe (with video)\n",
      "Our most-loved zucchini slice recipe ever\n",
      "While the argument as to what is Australia’s national dish will always rage (is it roast lamb, green chicken curry or a barramundi burger)? One thing is for sure, zucchini slice is hands-down the national food of the home cook.\n",
      "Your lamb, barra and curry may turn up on the menu of a restaurant, but our favourite savoury slice never will. It’s too humble. It just moseys its way into lunch boxes, dinners and even canapes. There’s a reason zucchini slice is taste.com.au’s most popular recipe of all time - it’s simpler than a quiche, tastier than an omelette, and it just works.\n",
      "Why this is our favourite zucchini slice recipe\n",
      "This particular zucchini slice recipe is without doubt the best we’ve tasted (and we’ve tried a lot over the years). Originally submitted by Artarmon Public School in Sydney, it not only has the endorsements of more than 1,000 reviewers, but it’s also been tasted by school kids and the taste team’s tough food critics alike.\n",
      "It manages to pack a big flavour and protein punch with just a handful of ingredients - eggs, zucchini, bacon, cheese and a few other staples - proving it’s totally possible to make a meal that can feed a whole family from pretty much nothing.\n",
      "Tips for making the best zucchini slice\n",
      "Want to get the best results from this recipe? When we make this zucchini slice (and between us we must've made it hundreds of times) we always ensure we squeeze out the moisture from the zucchini really well to prevent the slice turning out too moist or stodgy. Check out the notes at the bottom of this recipe for more no-fail tips on getting the best results.\n",
      "Want to change up your zucchini slice? Our\n",
      "vegetarian zucchini slice recipe\n",
      "is a great option if you're going meat-free. We've also got plenty of recipe ideas for\n",
      "zucchini slice with a twist\n",
      "to help you experiment with ingredients and flavours.\n",
      " \n",
      "Additional recipe notes by\n",
      "Alison Adams\n",
      "- Food Writer and Recipe Tester\n",
      "2\n",
      "Easy pumpkin soup recipe\n",
      "The beauty of a creamy pumpkin soup (and this classic pumpkin soup recipe in particular) is that it’s so versatile and forgiving. It’s one of the easiest meals to make with just a handful of ingredients, and it’s almost impossible to mess up. We love\n",
      "easy soup recipes\n",
      ", and know our community of home cooks do too.\n",
      "The author, Valli Little, originally created this creamy pumpkin soup recipe way back in 2004 and it was passed on to us here at taste.com.au as one of the first pumpkin soup recipes we ever published online. Since then, it’s become one of the most popular creamy pumpkin soup recipes in Australia, with more than 350 rave reviews to date.\n",
      "What makes this our best easy pumpkin soup recipe?\n",
      "It’s creamy without being heavy, delicately spiced without being spicy, and hearty without being too rich. Pretty much everything we look for in a pumpkin soup (and we’ve tried a lot of pumpkin soup recipes over the years!).\n",
      "To get the most out of this creamy pumpkin soup, ensure you soften the onion and leek until they just start to release some of their juices and flavours, but don’t go so far as to let them caramelise. This gives the soup a subtle sweetness of flavour without any bitterness. While some recipes use coconut milk, in this recipe we use thin cream instead of coconut milk to achieve a luscious consistency. Serve pumpkin soup with a satisfyingly crusty piece of bread. If you like, you can sprinkle your soup with chilli flakes (or cayenne pepper) or a pinch of smoked paprika.\n",
      "If you're not sure how best to cut and prep your pumpkin (be it butternut squash or another time of pumpkin) for your soup, check out our video guide at the bottom of the method steps.\n",
      "We also have a flavourful\n",
      "vegan pumpkin soup recipe\n",
      "for those who prefer a dairy-free soup. Looking for more easy soup recipe ideas? Try our 15-minute\n",
      "chicken and corn noodle soup\n",
      ". You could also make\n",
      "pumpkin soup in a slow cooker.\n",
      "Additional recipe notes by\n",
      "Alison Adams\n",
      "- Food Writer and Recipe Tester\n",
      "3\n",
      "Easy fried rice\n",
      "Fried rice is a staple of Aussie takeaway. We love fried rice. And, while we might all have our favourite restaurant that makes Chinese fried rice just the way we like it, satisfying fried rice and egg fried rice is a dish that is easy to replicate at home.\n",
      "In this super simple version we use pantry and fridge staples, but the beauty of basic fried rice recipes is that you can always adjust the ingredients based on what you happen to have on hand at any given time.\n",
      "Have some sesame oil and oyster sauce on hand? Brilliant! (We've listed vegetable oil here, but sesame oil brings extra flavour to your plate, as does a splash of oyster sauce or fish sauce). A great way to use up leftover veggies and protein, fried rice recipes can be bolstered with plenty of healthy ingredients and can easily be made vegetarian or vegan.\n",
      "Of course, you can use gluten-free soy sauce (tamari) or low sodium soy sauce instead and still create a flavourful fried rice. You could also jazz things up with kimchi to make a kimchi fried rice. We form an omelette with the eggs to mix through our rice, but you could always create a scrambled eggs texture, if you prefer.\n",
      "What makes this our best fried rice?\n",
      "Our best fried rice recipe contains only a handful of ingredients and ensures making fried rice is simple, which means that kids love it and can have fun cooking fried rice (making it a family-friendly dinner option). It's also a great way to use up any freshly cooked rice that's been leftover from the night before. If you'd like to make a low FODMAP version of this fried rice, check out our tips in the Notes section of this recipe.\n",
      "Once you've mastered how to cook fried rice and egg fried rice, explore more fried rice goodness and check out our best\n",
      "easy fried rice recipes\n",
      "and\n",
      "15 fabulous fried rice recipes\n",
      "all in one place, including our healthy,\n",
      "oven-baked, one-tray fried rice\n",
      "and this\n",
      "healthy fried rice with eg\n",
      "g, for your weeknight convenience!\n",
      "Additional recipe notes by\n",
      "Alison Adams\n",
      "- Food Writer and Recipe Tester\n",
      "4\n",
      "Classic shepherd's pie recipe\n",
      "A classic British and Irish dish that’s loved the world over, shepherd’s pie is the ultimate comfort food.\n",
      "What's in a shepherd's pie?\n",
      "Made with lamb mince, a rich gravy and buttery, creamy mashed potatoes, this recipe has all the elements for a perfect slow Sunday dinner and is on the table in just over an hour. We love the addition of Worcestershire sauce as it brings a deep umami flavour and a sweet, tangy and spicy punch all at once. And, you get your vegies with shepherd's pie recipe, with frozen peas, carrot and celery dappled throughout. Bay leaves bolster the flavours further, and a dollop of tomato paste completes the well-rounded lamb meat mixture. The whole family is destined to be delighted by this classic and, dare we say, best shepherds pie recipe with its potato topping.\n",
      "This golden brown mash-topped dish is nearly impossible to resist. And, if you love a warming comfort dish, you'll love our variations on this classic recipe, too. Try our\n",
      "beef shepherd's pie\n",
      ", a\n",
      "vegetarian shepherd's pie\n",
      "(that's actually vegan too), our\n",
      "much-loved easy shepherd's pie\n",
      ", and these\n",
      "individual pies\n",
      ".\n",
      "5\n",
      "Impossible quiche\n",
      "Don’t let the name deceive you: this ham and cheese quiche recipe is actually incredibly possible to make. Not all quiche recipes are created equal, and this impossible quiche recipe is simple, quick and full of nutritious, everyday ingredients.\n",
      "How does an impossible quiche recipe work?\n",
      "What we love about this impossible quiche recipe is that it requires no puff pastry base or pie crust. You simply mix all the ingredients together, pour the egg mixture into the pie dish and et voila, during cooking a quiche with golden edges forms as if by magic. No pie crust required! Making quiche needn't be hard, when you have a classic quiche recipe on hand. While quiche lorraine might be a go-to for many (and we love a quiche lorraine too), an impossible quiche recipe is even easier and speedier to make at home. And, while we love a good pie crust, a crustless quiche saves time and money. Win, win.\n",
      "Why is this such an easy crustless quiche recipe?\n",
      "For this reason, and the fact it needs only 10 minutes to prep and a handful of ingredients, this crustless quiche has easily become one of our favourite easy quiche recipe dinners, a brunch menu go-to, and best lunchbox fillers to make. What’s more, you can this dish ahead and freeze it for up to 2 months. What's not to love about an easy quiche recipe with grated cheddar cheese, onion and diced ham? Yum. Serve hot and golden brown, or cooled as a leftover lunch with salad.\n",
      "Cheddar cheese makes a great tasty addition to this crustless quiche recipe, which has received 5 stars from more than 270 home cooks. Minimal prep, 5 stars, on the table in under an hour? That's what midweek dinner dreams are made of. And, if you like a little extra kick, you can drizzle with hot sauce, sprinkle in green onions or add fresh herbs, Swiss cheese or goat cheese. It really is a great recipe, and incredibly versatile. Bake until golden brown and you have yourself a delicious meal at any time of day.\n",
      "For more quiche inspiration, check out our collection of\n",
      "best-ever quiche recipes\n",
      ", our best\n",
      "quiche lorraine recipe\n",
      ", and our sweet take on the impossible quiche with this\n",
      "butterscotch version\n",
      ".\n",
      "Additional recipe notes by\n",
      "Alison Adams\n",
      "- Food Writer and Recipe Tester\n",
      "6\n",
      "Our favourite lasagne\n",
      "Fall in love at first bite with our favourite lasagne recipe. With layer upon layer of ground beef mince meat sauce, pasta, and creamy cheesy sauce, this comforting lasagne (or lasagna, for those in the US) is a warm hug on a plate.\n",
      "Originally developed by Sarah Hobbs and re-tested by Alison Adams, this delicious recipe has been absolutely perfected.\n",
      "What's our secret to our best lasagne recipe?\n",
      "There are many good reasons this particular lasagne recipe has become so beloved. The addition of wine in the meat sauce makes it super flavourful, while the layering of pasta (or 'lasagna noodles' for those in the US!) with mozzarella makes for the perfect 'cheese pull moment' (watch our video to witness it in action). But if we were to pick one thing that makes this lasagne recipe stand out above all others, it’s the luscious bechamel. A good homemade bechamel base or 'cheese sauce' takes time, but it’s worth it for the extra depth of flavour it brings.\n",
      "The best thing about a rich Italian ragu lasagne is that it tastes even better the next day, even when heated in the microwave. This recipe is also freezer-friendly and will keep for up to 3 months in an airtight container. You can wrap individual portions in freezer wrap, ready to take out for a quick and easy dinner-for-one or to create some lunch envy in the workplace.\n",
      "This amazing lasagne recipe, with its rich tomato sauce, is an absolute favourite among the taste.com.au team (hence the name!), but don’t just take my word for it: our members are raving about it too. One reviewer even said she made it for her husband “who grew up eating lasagna his Italian mother cooked him” (no pressure!) and “he thoroughly enjoyed” it.  Fewf (wipes brow). With a 4.5-star rating and multiple rave reviews, it’s safe to say this recipe is now an adopted Aussie classic.\n",
      "Feeding a crowd? check out the\n",
      "vegetarian lasagne recipe\n",
      "that even meat lovers will swoon over, and our collection of\n",
      "more delicious lasagne recipes\n",
      ".\n",
      "Additional recipe notes by\n",
      "Alison Adams\n",
      "- Food Writer and Recipe Tester\n",
      "7\n",
      "Delicious Thai beef salad recipe\n",
      "Thai cuisine is one of contrasts and Thai beef salad is a perfect example. In the dressing alone, sweet meets salty, spicy and sour and in the salad intense chilli meets gentle aromatic herbs and cooling cucumber, all coming together in perfect harmony.\n",
      "Why do we love this Thai beef salad recipe?\n",
      "A much loved and ordered restaurant item, this Thai beef salad recipe brings this heavenly dish into your own home. The secret? While most Thai beef salad recipes just season and grill the meat, this recipe uses the ingenious trick of marinating it in half of the dressing. This not only flavours and tenderises the meat, but the palm sugar in the dressing helps caramelise the surface. Known as yum nua, this Thai beef salad is easy enough to be cooked as a weeknight dinner, but also special enough to be served as part of a Thai banquet.\n",
      "If you're planning a Thai feast that's better than take-away, here are our favourite\n",
      "homemade Thai food recipes\n",
      "to try and\n",
      "15 Thai desserts\n",
      "you'll want to devour with haste!\n",
      "8\n",
      "Curried sausages\n",
      "Retro is back, baby! At last, I can make my shameful curried sausages love public. As a meal, it has enough kick to know you’re alive, but it’s not too spicy for kids, making it an ideal midweek dinner for families – and it’s pretty easy on the budget too! There's a reason this curried sausages recipe has scored 5 stars from more than 130 people. It's absolutely delicious! Better yet, ingredients for curried sausages are easy to find in your pantry (we're looking at you, Keens curry powder), teamed with a handful of fresh ingredients including carrots and peas (and perhaps some creamy mashed potato, to serve).\n",
      "Why is this the best curried sausages recipe?\n",
      "When craving curried sausages, this is the recipe I always use. The natural sweetness of carrots coupled with the fruity chutney (the secret to our delicious tasty mild curry sauce!) is a perfect match for the piquant curry powder and hearty sausages. Curried sausages can be served with rice (as a nod to curry) or mashed potato (hello bangers)! My guilty pleasure, however, is serving it with the sausage already cut up, in a bowl, with thick slices of buttered bread, on the couch!\n",
      "Hungry for more curried sausages recipe inspiration? Try our budget-friendly\n",
      "French onion curried sausages recipe\n",
      ", this\n",
      "easy curried sausages tray bake\n",
      "recipe, these clever\n",
      "curried sausage rolls\n",
      ", and for the die-hard curried sausages fan, here's our\n",
      "curried sausages cob loaf recipe\n",
      "(take this to your next gathering!).\n",
      "9\n",
      "Basic chicken and vegetable stir-fry recipe\n",
      "There’s nothing we love more than a speedy, easy and healthy dinner, which is why we’re always in the mood for a chicken stir-fry. Whether you’re short on time, looking to empty out the vegetables in your fridge, or you just want to eat cleaner, chicken stir frys are a great all-in-one staple meal that even the kids will love.\n",
      "What makes this such a great easy chicken stir-fry recipe?\n",
      "The best part about stir-fries is that anyone can make them, regardless of cooking abilities. But this chicken stir-fry recipe is one we find ourselves coming back to again and again when we crave a healthy, easy meal during the mid-week dinner rush. Ready in 30 minutes, our easy chicken stir-fry uses a range of colourful vegies, tender chicken breast, and a salty, sweet Asian-inspired sauce. Not to mention it has an 8.4 health star rating, making it great for those following a lower-calorie diet.\n",
      "For more speedy and healthy dinner inspo, try these\n",
      "vegie-filled vegetarian stir-fries\n",
      ",\n",
      "these easy chicken dinners\n",
      "and our\n",
      "top 100 healthy recipes of all time\n",
      ".\n",
      "And, see some delicious stir-fry recipe ideas for varying your dinners, in our recipe notes below.\n",
      "Additional recipe notes from\n",
      "Alison Adams - Recipes Editor and Food Writer\n",
      "10\n",
      "San choy bau\n",
      "San choy bau is a dish embraced by all ages. Sweet, sour and salty flavours meet tender, crispy and crunchy textures all wrapped up like a present! Our san choy bau recipe brings this Chinese restaurant classic into your own home. Umami-rich oyster and soy sauces flavour soft and juicy pork mince and contrast against the tender-crisp pop of bean sprouts and crunch of peanuts. And who doesn’t love having to eat with your fingers! - Alison Adams - Food Writer and Recipe Tester\n",
      "11\n",
      "Easy butter chicken recipe\n",
      "What is it about butter chicken (or murgh makhani in Hindi) that makes it loved by children and adults alike? Butter chicken sauce is like a big hug. A must-order item on an Indian restaurant menu, this home-cooked version has all the same complexity of flavour, yet it’s so simple to make yourself. Tender chicken bathes in a tomato sauce flavoured with sweet spices such as cumin, coriander and garam masala, and it’s finished with a generous slug of cream.\n",
      "So what makes our best butter chicken recipe such a delicious curry?\n",
      "In any authentic butter chicken, the chicken is left to marinate in a mixture of yoghurt and spices for hours before cooking. The yoghurt makes the chicken super tender, while the spices penetrate it and give it much more depth of flavour. Of course, butter chicken sauce isn’t made from just butter, it's made up of a beautiful blend of rich ingredients, the yoghurt from the marinade, stock, tomato and cream.\n",
      "I recommend serving this version of butter chicken the traditional way with steamed basmati rice and naan.\n",
      "If you love butter chicken, try out\n",
      "butter chicken pie\n",
      ",\n",
      "butter chicken pizza\n",
      "and\n",
      "creamy butter chicken served in a crispy roti\n",
      ".\n",
      "Additional recipe notes by\n",
      "Alison Adams\n",
      "- Food Writer and Recipe Tester\n",
      "12\n",
      "Pea & ham soup\n",
      "Hear me out when I suggest pea and ham soup is the Ugg Boot of the soup world. It may not look the prettiest, but it provides warmth and comfort like nothing else. The holy trinity of onion, carrot and celery forms the aromatic base for this perfect pea and ham soup recipe. Tiny split peas slowly break down in water flavoured with the aromatics and an umami-packed\n",
      "ham hock\n",
      ". \n",
      "The secret ingredient here? Time. Simmering for more than 2 hours allows the hock to soften until fork-tender and falling from the bone. It also allows the starches in the peas to be released into the soup, creating a creamy taste and texture. This pea and ham soup is so tasty it’s enough to make you yearn for winter at any time of the year. You can also pop this set-and-forget\n",
      "slow cooker pea and ham soup\n",
      "on and come home to a warming bowl of ready-made soup. Seeking more soup ideas? We’ve gathered together\n",
      "67 warming winter soup recipes\n",
      "that aren’t pumpkin based.\n",
      "Additional recipe notes by\n",
      "Alison Adams\n",
      "- Food Writer and Recipe Tester\n",
      "13\n",
      "Australia's top-rated spaghetti carbonara recipe\n",
      "We throw tradition to the wind with our speedy spaghetti carbonara recipe, with some sneaky shortcuts for time-poor cooks. It may taste exactly like the real deal, but this carbonara sauce has some secrets behind its glossy surface, proving some rules are just begging to be broken.\n",
      "What's the secret behind this easy spaghetti carbonara recipe?\n",
      "Beloved my many, our easy carbonara recipe is one of Australia’s most popular recipes, and we know exactly why it's become the stuff of weeknight legend. We do the thing your nonna told you not to: we add cream. And yet, although it breaks from the traditional Italian recipe, it’s all for a delicious reason. We promise. Traditional carbonara recipes require a degree of technique (for example, adding ingredients at just the right temperature and time) and quality (read: expensive) ingredients, which just aren’t ideal for regular weeknights. That’s why we like to add thickened cream to our carbonara recipe with cream. A cheaper supermarket ingredient that ensures a velvety, indulgent sauce that will rival a restaurant-made spaghetti carbonara, a splash of cream means dinner's ready in 12 minutes! This carbonara recipe is one of the quickest you’ll come across. Here's to making weeknights simpler (without compromising on flavour). Go on, break the rules. We won't tell.\n",
      "Here's some other\n",
      "old-school favourites we've made simpler\n",
      ". More time to spare? Try our\n",
      "slow-cooker carbonara\n",
      "recipe, too!\n",
      "Additional recipe notes by\n",
      "Alison Adams\n",
      "- Food Writer and Recipe Tester\n",
      "14\n",
      "Our best ever spaghetti bolognese recipe\n",
      "Spaghetti bolognese, or spag bol, as it's affectionately known in Australia, is what most of us would consider to be the quintessential Italian meal. However, In Italy, the thick, slow-cooked Bolognese sauce is usually served with flat pasta or in a lasagne. This spaghetti bolognese recipe really is a great recipe. It's absolutely delicious, and here's why we love it so.\n",
      "Why is this our favourite spaghetti bolognese recipe?\n",
      "Our version starts with a soffritto mix of finely chopped onion, celery and carrot (plus garlic) and is flavoured further by diced tomatoes, oregano and nutmeg. This particular spaghetti bolognese recipe is diabetes-friendly, making it suitable for everyone's dinner. It's easy to make spaghetti bolognese at home on any night of the week, and you can freeze the ground beef meat mixture for future use. You'll thank yourself later! Our best spaghetti bolognese recipe (and yes, that's a big call) is one kids will love, adults will crave and ticks the nutritional boxes!\n",
      "If this classic spaghetti bolognese is a favourite in your home, you're bound to adore our\n",
      "easy spaghetti bolognese bake\n",
      ", this\n",
      "5-ingredient bolognese rice bake\n",
      "(a total midweek saviour!), our\n",
      "cheesy spaghetti bolognese pie\n",
      ", our\n",
      "garlic bread spaghetti carbonara\n",
      ", and\n",
      "this collection of budget-friendly pasta recipes\n",
      ".\n",
      "15\n",
      "Potato and leek soup\n",
      "Along with minestrone, pumpkin and chicken, potato and leek soup is up there as one of the classics. And is it any wonder: it’s warming, nourishing and super easy to make. Unlike other potato and leek soup recipes, our version only requires a handful of ingredients. It starts with an aromatic base of garlic and onion (like so many traditional French recipes do), with potato, leek, stock and cream added after. Just remember, if you are making this ahead, only add the cream just before serving so it doesn’t curdle. We’ve provided two options and instructions for blending your soup - a blender and a stick blender - to help prevent it from going slimy. What we love about potato and leek soup is it’s a great way to up you and your family’s vegetable intake, as well as add your own variations (we even like to add bacon at times).\n",
      "A note about relevant advertising\n",
      "We collect information about the content (including ads) you use across this site and use it to make both advertising and content more\n",
      "                        relevant to you on our network and other sites. This is also known as Online Behavioural Advertising. You can find out more about our\n",
      "                        policy and your choices, including how to opt-out\n",
      "here\n",
      ".\n",
      "                        Taste may receive an affiliate commission if you buy through our links.\n",
      "Learn more.\n",
      "Copyright 2024 News Life Media Pty Ltd all rights reserved\n",
      "Privacy Policy\n",
      "Relevant Ads Opt-Out\n",
      "Cookie Policy\n",
      "About us\n",
      "FAQ\n",
      "Advertise\n",
      "Licensing & Reprints\n",
      "Legal Notices\n",
      "Contact us\n",
      "Code of conduct\n"
     ]
    }
   ],
   "source": [
    "\"\"\"\n",
    "Project     :   Linkscribe\n",
    "Package     :   ML-DL Model \n",
    "Method      :   get_text_from_webpage   \n",
    "Author      :   jdmunoz\n",
    "\n",
    "Description :   This method gets the pure text from webpages\n",
    "\n",
    "Inputs      :   url --> URL from webscraping\n",
    "\n",
    "Modification History: \n",
    "*********************************************************\n",
    "Date            Author          Modification\n",
    "25-03-2024      jdmunoz         Creation\n",
    "*********************************************************\n",
    "\"\"\"\n",
    "def get_text_from_webpage(url):\n",
    "    # Send a GET request to the URL\n",
    "    response = requests.get(url)\n",
    "    \n",
    "    # Check if the request was successful\n",
    "    if response.status_code == 200:\n",
    "        # Parse the HTML content of the page using BeautifulSoup\n",
    "        soup = BeautifulSoup(response.content, 'html.parser')\n",
    "        \n",
    "        # Extract text from the parsed HTML\n",
    "        text = soup.get_text(separator='\\n', strip=True)\n",
    "        \n",
    "        return text\n",
    "    else:\n",
    "        # If the request was not successful, print an error message\n",
    "        print(f\"Error: Unable to retrieve content from {url}. Status code: {response.status_code}\")\n",
    "        return None\n",
    "\n",
    "# Example usage:\n",
    "# url = \"https://m.allfootballapp.com/news/Headline/Spain---Brazil-times-how-to-watch-on-TV-stream-online-%7C-International-Friendly/3334668\"\n",
    "url = \"https://www.taste.com.au/quick-easy/galleries/top-100-easy-dinner-recipes/biccuul7\"\n",
    "webpage_text = get_text_from_webpage(url)\n",
    "\n",
    "text = [webpage_text]\n",
    "if webpage_text:\n",
    "    print(webpage_text)"
   ]
  },
  {
   "cell_type": "code",
   "execution_count": 204,
   "metadata": {},
   "outputs": [
    {
     "name": "stdout",
     "output_type": "stream",
     "text": [
      "[ 0  1  2  3  4  5  6  7  8  9 10 11 12 13 14 15] ['Adult' 'Business/Corporate' 'Computers and Technology' 'E-Commerce'\n",
      " 'Education' 'Food' 'Forums' 'Games' 'Health and Fitness'\n",
      " 'Law and Government' 'News' 'Photography'\n",
      " 'Social Networking and Messaging' 'Sports' 'Streaming Services' 'Travel']\n"
     ]
    }
   ],
   "source": [
    "\n",
    "Categories = np.array(['Adult', 'Business/Corporate', 'Computers and Technology',\n",
    "       'E-Commerce', 'Education', 'Food', 'Forums', 'Games',\n",
    "       'Health and Fitness', 'Law and Government', 'News', 'Photography',\n",
    "       'Social Networking and Messaging', 'Sports', 'Streaming Services',\n",
    "       'Travel'], dtype=object)\n",
    "\n",
    "test = LabelEncoder()\n",
    "ya_t = test.fit_transform(Categories)\n",
    "print(ya_t,Categories)"
   ]
  },
  {
   "cell_type": "code",
   "execution_count": 216,
   "metadata": {},
   "outputs": [
    {
     "name": "stdout",
     "output_type": "stream",
     "text": [
      "['Food']\n"
     ]
    }
   ],
   "source": [
    "predictions = loaded_model.predict(text)\n",
    "\n",
    "p = test.inverse_transform(predictions)\n",
    "print(p)"
   ]
  },
  {
   "cell_type": "markdown",
   "metadata": {},
   "source": [
    "# DL model "
   ]
  },
  {
   "cell_type": "markdown",
   "metadata": {},
   "source": [
    "Based on the literature we are going to use different configurations and techniques of deep learning, explaining the different configurations. We are going to show five experiments: \n",
    "\n",
    "\n"
   ]
  },
  {
   "cell_type": "code",
   "execution_count": 35,
   "metadata": {},
   "outputs": [],
   "source": [
    "import random\n",
    "import tensorflow as tf\n",
    "from tensorflow.keras.layers import TextVectorization\n",
    "from tensorflow.keras import layers"
   ]
  },
  {
   "cell_type": "code",
   "execution_count": 22,
   "metadata": {},
   "outputs": [],
   "source": [
    "# x and Y variables for split \n",
    "X = Data.cleaned_website_text\n",
    "Y = Data.Category"
   ]
  },
  {
   "cell_type": "code",
   "execution_count": 23,
   "metadata": {},
   "outputs": [],
   "source": [
    "# output encoding\n",
    "Y = LabelEncoder().fit_transform(Y)"
   ]
  },
  {
   "cell_type": "code",
   "execution_count": 24,
   "metadata": {},
   "outputs": [],
   "source": [
    "# splitting the Dataset in train and test\n",
    "RANDOM_SEED = 43\n",
    "X_train, X_test, y_train, y_test = train_test_split(X, Y, test_size = 0.3, random_state = RANDOM_SEED)"
   ]
  },
  {
   "cell_type": "code",
   "execution_count": 32,
   "metadata": {},
   "outputs": [
    {
     "data": {
      "text/plain": [
       "1678.6"
      ]
     },
     "execution_count": 32,
     "metadata": {},
     "output_type": "execute_result"
    }
   ],
   "source": [
    "# Find average number of words in dataset\n",
    "\n",
    "lengths_of_description = [len(sentence.split()) for sentence in X_train.values]\n",
    "np.mean(lengths_of_description)\n",
    "np.percentile(lengths_of_description, 90)"
   ]
  },
  {
   "cell_type": "code",
   "execution_count": 27,
   "metadata": {},
   "outputs": [
    {
     "name": "stderr",
     "output_type": "stream",
     "text": [
      "2024-03-25 10:21:46.844447: E external/local_xla/xla/stream_executor/cuda/cuda_dnn.cc:9261] Unable to register cuDNN factory: Attempting to register factory for plugin cuDNN when one has already been registered\n",
      "2024-03-25 10:21:46.844527: E external/local_xla/xla/stream_executor/cuda/cuda_fft.cc:607] Unable to register cuFFT factory: Attempting to register factory for plugin cuFFT when one has already been registered\n",
      "2024-03-25 10:21:46.969382: E external/local_xla/xla/stream_executor/cuda/cuda_blas.cc:1515] Unable to register cuBLAS factory: Attempting to register factory for plugin cuBLAS when one has already been registered\n",
      "2024-03-25 10:21:47.213627: I tensorflow/core/platform/cpu_feature_guard.cc:182] This TensorFlow binary is optimized to use available CPU instructions in performance-critical operations.\n",
      "To enable the following instructions: AVX2 FMA, in other operations, rebuild TensorFlow with the appropriate compiler flags.\n",
      "2024-03-25 10:21:49.347215: W tensorflow/compiler/tf2tensorrt/utils/py_utils.cc:38] TF-TRT Warning: Could not find TensorRT\n",
      "2024-03-25 10:21:51.103475: I external/local_xla/xla/stream_executor/cuda/cuda_executor.cc:901] successful NUMA node read from SysFS had negative value (-1), but there must be at least one NUMA node, so returning NUMA node zero. See more at https://github.com/torvalds/linux/blob/v6.0/Documentation/ABI/testing/sysfs-bus-pci#L344-L355\n",
      "2024-03-25 10:21:51.449359: I external/local_xla/xla/stream_executor/cuda/cuda_executor.cc:901] successful NUMA node read from SysFS had negative value (-1), but there must be at least one NUMA node, so returning NUMA node zero. See more at https://github.com/torvalds/linux/blob/v6.0/Documentation/ABI/testing/sysfs-bus-pci#L344-L355\n",
      "2024-03-25 10:21:51.449631: I external/local_xla/xla/stream_executor/cuda/cuda_executor.cc:901] successful NUMA node read from SysFS had negative value (-1), but there must be at least one NUMA node, so returning NUMA node zero. See more at https://github.com/torvalds/linux/blob/v6.0/Documentation/ABI/testing/sysfs-bus-pci#L344-L355\n",
      "2024-03-25 10:21:51.450743: I external/local_xla/xla/stream_executor/cuda/cuda_executor.cc:901] successful NUMA node read from SysFS had negative value (-1), but there must be at least one NUMA node, so returning NUMA node zero. See more at https://github.com/torvalds/linux/blob/v6.0/Documentation/ABI/testing/sysfs-bus-pci#L344-L355\n",
      "2024-03-25 10:21:51.450973: I external/local_xla/xla/stream_executor/cuda/cuda_executor.cc:901] successful NUMA node read from SysFS had negative value (-1), but there must be at least one NUMA node, so returning NUMA node zero. See more at https://github.com/torvalds/linux/blob/v6.0/Documentation/ABI/testing/sysfs-bus-pci#L344-L355\n",
      "2024-03-25 10:21:51.451166: I external/local_xla/xla/stream_executor/cuda/cuda_executor.cc:901] successful NUMA node read from SysFS had negative value (-1), but there must be at least one NUMA node, so returning NUMA node zero. See more at https://github.com/torvalds/linux/blob/v6.0/Documentation/ABI/testing/sysfs-bus-pci#L344-L355\n",
      "2024-03-25 10:21:51.552640: I external/local_xla/xla/stream_executor/cuda/cuda_executor.cc:901] successful NUMA node read from SysFS had negative value (-1), but there must be at least one NUMA node, so returning NUMA node zero. See more at https://github.com/torvalds/linux/blob/v6.0/Documentation/ABI/testing/sysfs-bus-pci#L344-L355\n",
      "2024-03-25 10:21:51.552954: I external/local_xla/xla/stream_executor/cuda/cuda_executor.cc:901] successful NUMA node read from SysFS had negative value (-1), but there must be at least one NUMA node, so returning NUMA node zero. See more at https://github.com/torvalds/linux/blob/v6.0/Documentation/ABI/testing/sysfs-bus-pci#L344-L355\n",
      "2024-03-25 10:21:51.553231: I external/local_xla/xla/stream_executor/cuda/cuda_executor.cc:901] successful NUMA node read from SysFS had negative value (-1), but there must be at least one NUMA node, so returning NUMA node zero. See more at https://github.com/torvalds/linux/blob/v6.0/Documentation/ABI/testing/sysfs-bus-pci#L344-L355\n",
      "2024-03-25 10:21:51.553421: I tensorflow/core/common_runtime/gpu/gpu_device.cc:1929] Created device /job:localhost/replica:0/task:0/device:GPU:0 with 1819 MB memory:  -> device: 0, name: NVIDIA GeForce GTX 1050, pci bus id: 0000:01:00.0, compute capability: 6.1\n"
     ]
    }
   ],
   "source": [
    "\"\"\"\n",
    "from tensorflow.keras.layers import TextVectorization:\n",
    "\n",
    "A preprocessing layer which maps text features to integer sequences.\n",
    "\"\"\"\n",
    "\n",
    "output_sequence_length = 1679\n",
    "text_vectorization = TextVectorization(output_mode = 'int', \n",
    "                                       output_sequence_length = output_sequence_length)"
   ]
  },
  {
   "cell_type": "code",
   "execution_count": 29,
   "metadata": {},
   "outputs": [
    {
     "name": "stdout",
     "output_type": "stream",
     "text": [
      "original : ['free', 'webcam', 'chat', 'rooms', 'camamba', 'free', 'webcam', 'chat', 'community', 'find', 'new', 'friend', 'world', 'chat', 'flirt', 'play', 'share', 'camamba', 'chat', 'free'] \n",
      " [   9 4380   32 1665 9777    9 4380   32  148   20    3  365    6   32\n",
      " 6188   35   45 9777   32    9]\n"
     ]
    }
   ],
   "source": [
    "text_vectorization.adapt(X_train.values)\n",
    "\n",
    "# take a random sample and tokenize it\n",
    "random_s = random.choice(X_train.values)\n",
    "print(f\"original : {random_s.split()[:20]}\", \"\\n\",text_vectorization([random_s]).numpy()[0][:20])"
   ]
  },
  {
   "cell_type": "code",
   "execution_count": 31,
   "metadata": {},
   "outputs": [
    {
     "name": "stdout",
     "output_type": "stream",
     "text": [
      "Number of words in vocab : 47575\n",
      "Top 5 : ['', '[UNK]', 'news', 'new', 'read']\n",
      "bottom 5 : ['02001f', '02000f', '01st', '0084ff', '007f']\n"
     ]
    }
   ],
   "source": [
    "words = text_vectorization.get_vocabulary()\n",
    "top5 = words[:5]\n",
    "bottom5 = words[-5:]\n",
    "\n",
    "print(f\"Number of words in vocab : {len(words)}\")\n",
    "print(f\"Top 5 : {top5}\")\n",
    "print(f\"bottom 5 : {bottom5}\")"
   ]
  },
  {
   "cell_type": "markdown",
   "metadata": {},
   "source": [
    "## Embeddings "
   ]
  },
  {
   "cell_type": "code",
   "execution_count": 36,
   "metadata": {},
   "outputs": [
    {
     "name": "stdout",
     "output_type": "stream",
     "text": [
      "Model: \"model\"\n",
      "_________________________________________________________________\n",
      " Layer (type)                Output Shape              Param #   \n",
      "=================================================================\n",
      " input_1 (InputLayer)        [(None, 1)]               0         \n",
      "                                                                 \n",
      " text_vectorization (TextVe  (None, 1679)              0         \n",
      " ctorization)                                                    \n",
      "                                                                 \n",
      " embedding (Embedding)       (None, 1679, 128)         6089600   \n",
      "                                                                 \n",
      " global_average_pooling1d (  (None, 128)               0         \n",
      " GlobalAveragePooling1D)                                         \n",
      "                                                                 \n",
      " dense (Dense)               (None, 16)                2064      \n",
      "                                                                 \n",
      "=================================================================\n",
      "Total params: 6091664 (23.24 MB)\n",
      "Trainable params: 6091664 (23.24 MB)\n",
      "Non-trainable params: 0 (0.00 Byte)\n",
      "_________________________________________________________________\n"
     ]
    }
   ],
   "source": [
    "\"\"\"\n",
    "Model's architecture with Embeddings \n",
    "\"\"\"\n",
    "# Input Layer string\n",
    "inputs = layers.Input(shape = (1, ), dtype = tf.string)\n",
    "# Text vectorizer layer \n",
    "text_vectorizer = text_vectorization(inputs)\n",
    "# Embedding layer\n",
    "embed = layers.Embedding(output_dim = 128, \n",
    "                        input_dim = len(words),\n",
    "                        input_length = 1679)(text_vectorizer)\n",
    "# AVG pooling Layer \n",
    "x = layers.GlobalAveragePooling1D()(embed)\n",
    "# Output \n",
    "outputs = layers.Dense(16, activation = 'softmax')(x)\n",
    "\n",
    "model = tf.keras.Model(inputs, outputs)\n",
    "model.summary()"
   ]
  },
  {
   "cell_type": "code",
   "execution_count": 37,
   "metadata": {},
   "outputs": [],
   "source": [
    "model.compile(loss = tf.keras.losses.SparseCategoricalCrossentropy(), \n",
    "              optimizer = 'adam', \n",
    "              metrics = ['accuracy'])"
   ]
  },
  {
   "cell_type": "code",
   "execution_count": 38,
   "metadata": {},
   "outputs": [
    {
     "name": "stdout",
     "output_type": "stream",
     "text": [
      "Epoch 1/20\n"
     ]
    },
    {
     "name": "stderr",
     "output_type": "stream",
     "text": [
      "2024-03-25 10:33:18.903842: I external/local_xla/xla/service/service.cc:168] XLA service 0x72ee702ebcc0 initialized for platform CUDA (this does not guarantee that XLA will be used). Devices:\n",
      "2024-03-25 10:33:18.903879: I external/local_xla/xla/service/service.cc:176]   StreamExecutor device (0): NVIDIA GeForce GTX 1050, Compute Capability 6.1\n",
      "2024-03-25 10:33:18.930909: I tensorflow/compiler/mlir/tensorflow/utils/dump_mlir_util.cc:269] disabling MLIR crash reproducer, set env var `MLIR_CRASH_REPRODUCER_DIRECTORY` to enable.\n",
      "2024-03-25 10:33:18.993992: I external/local_xla/xla/stream_executor/cuda/cuda_dnn.cc:454] Loaded cuDNN version 8904\n",
      "WARNING: All log messages before absl::InitializeLog() is called are written to STDERR\n",
      "I0000 00:00:1711380799.151350    9962 device_compiler.h:186] Compiled cluster using XLA!  This line is logged at most once for the lifetime of the process.\n"
     ]
    },
    {
     "name": "stdout",
     "output_type": "stream",
     "text": [
      "31/31 [==============================] - 6s 153ms/step - loss: 2.7517 - accuracy: 0.1645 - val_loss: 2.7344 - val_accuracy: 0.1820\n",
      "Epoch 2/20\n",
      "31/31 [==============================] - 5s 147ms/step - loss: 2.7078 - accuracy: 0.2305 - val_loss: 2.7020 - val_accuracy: 0.1962\n",
      "Epoch 3/20\n",
      "31/31 [==============================] - 4s 142ms/step - loss: 2.6622 - accuracy: 0.2528 - val_loss: 2.6677 - val_accuracy: 0.2009\n",
      "Epoch 4/20\n",
      "31/31 [==============================] - 5s 147ms/step - loss: 2.6128 - accuracy: 0.2883 - val_loss: 2.6323 - val_accuracy: 0.2388\n",
      "Epoch 5/20\n",
      "31/31 [==============================] - 5s 147ms/step - loss: 2.5595 - accuracy: 0.3350 - val_loss: 2.5911 - val_accuracy: 0.2648\n",
      "Epoch 6/20\n",
      "31/31 [==============================] - 4s 139ms/step - loss: 2.4984 - accuracy: 0.3594 - val_loss: 2.5450 - val_accuracy: 0.2884\n",
      "Epoch 7/20\n",
      "31/31 [==============================] - 4s 131ms/step - loss: 2.4306 - accuracy: 0.4213 - val_loss: 2.4941 - val_accuracy: 0.3144\n",
      "Epoch 8/20\n",
      "31/31 [==============================] - 4s 134ms/step - loss: 2.3562 - accuracy: 0.4751 - val_loss: 2.4364 - val_accuracy: 0.3499\n",
      "Epoch 9/20\n",
      "31/31 [==============================] - 4s 142ms/step - loss: 2.2765 - accuracy: 0.5188 - val_loss: 2.3760 - val_accuracy: 0.3877\n",
      "Epoch 10/20\n",
      "31/31 [==============================] - 5s 145ms/step - loss: 2.1932 - accuracy: 0.5310 - val_loss: 2.3163 - val_accuracy: 0.4137\n",
      "Epoch 11/20\n",
      "31/31 [==============================] - 4s 130ms/step - loss: 2.1102 - accuracy: 0.6030 - val_loss: 2.2589 - val_accuracy: 0.4681\n",
      "Epoch 12/20\n",
      "31/31 [==============================] - 4s 116ms/step - loss: 2.0265 - accuracy: 0.6416 - val_loss: 2.1975 - val_accuracy: 0.4823\n",
      "Epoch 13/20\n",
      "31/31 [==============================] - 4s 140ms/step - loss: 1.9442 - accuracy: 0.6721 - val_loss: 2.1399 - val_accuracy: 0.4846\n",
      "Epoch 14/20\n",
      "31/31 [==============================] - 4s 116ms/step - loss: 1.8653 - accuracy: 0.7015 - val_loss: 2.0820 - val_accuracy: 0.5154\n",
      "Epoch 15/20\n",
      "31/31 [==============================] - 4s 123ms/step - loss: 1.7857 - accuracy: 0.7015 - val_loss: 2.0256 - val_accuracy: 0.5366\n",
      "Epoch 16/20\n",
      "31/31 [==============================] - 4s 133ms/step - loss: 1.7121 - accuracy: 0.7218 - val_loss: 1.9729 - val_accuracy: 0.5721\n",
      "Epoch 17/20\n",
      "31/31 [==============================] - 4s 129ms/step - loss: 1.6409 - accuracy: 0.7614 - val_loss: 1.9188 - val_accuracy: 0.5816\n",
      "Epoch 18/20\n",
      "31/31 [==============================] - 4s 123ms/step - loss: 1.5728 - accuracy: 0.7939 - val_loss: 1.8675 - val_accuracy: 0.5910\n",
      "Epoch 19/20\n",
      "31/31 [==============================] - 4s 125ms/step - loss: 1.5087 - accuracy: 0.7898 - val_loss: 1.8199 - val_accuracy: 0.5981\n",
      "Epoch 20/20\n",
      "31/31 [==============================] - 4s 122ms/step - loss: 1.4497 - accuracy: 0.7949 - val_loss: 1.7747 - val_accuracy: 0.6288\n"
     ]
    }
   ],
   "source": [
    "h1 = model.fit(X_train, y_train, epochs = 20, validation_data = (X_test, y_test))"
   ]
  },
  {
   "cell_type": "markdown",
   "metadata": {},
   "source": [
    "## Conv1D Model "
   ]
  },
  {
   "cell_type": "code",
   "execution_count": 45,
   "metadata": {},
   "outputs": [
    {
     "name": "stdout",
     "output_type": "stream",
     "text": [
      "Model: \"model_2\"\n",
      "_________________________________________________________________\n",
      " Layer (type)                Output Shape              Param #   \n",
      "=================================================================\n",
      " input_6 (InputLayer)        [(None, 1)]               0         \n",
      "                                                                 \n",
      " text_vectorization (TextVe  (None, 1679)              0         \n",
      " ctorization)                                                    \n",
      "                                                                 \n",
      " embedding_5 (Embedding)     (None, 1679, 128)         6089600   \n",
      "                                                                 \n",
      " conv1d_6 (Conv1D)           (None, 1679, 64)          41024     \n",
      "                                                                 \n",
      " global_average_pooling1d_5  (None, 64)                0         \n",
      "  (GlobalAveragePooling1D)                                       \n",
      "                                                                 \n",
      " dense_3 (Dense)             (None, 16)                1040      \n",
      "                                                                 \n",
      "=================================================================\n",
      "Total params: 6131664 (23.39 MB)\n",
      "Trainable params: 6131664 (23.39 MB)\n",
      "Non-trainable params: 0 (0.00 Byte)\n",
      "_________________________________________________________________\n"
     ]
    }
   ],
   "source": [
    "\n",
    "inputs = layers.Input(shape = (1, ), dtype = tf.string)\n",
    "text_vectorizer = text_vectorization(inputs)\n",
    "embed = layers.Embedding(output_dim = 128, \n",
    "                        input_dim = len(words),\n",
    "                        input_length = 1660)(text_vecto rizer)\n",
    "# Convolutional layer \n",
    "x1 = layers.Conv1D(64, kernel_size = 5, padding = \"same\")(embed)\n",
    "xAGV1 = layers.GlobalAveragePooling1D()(x1)\n",
    "outputs = layers.Dense(16, activation = 'softmax')(xAGV1)\n",
    "\n",
    "model2 = tf.keras.Model(inputs, outputs)\n",
    "model2.summary()"
   ]
  },
  {
   "cell_type": "code",
   "execution_count": 40,
   "metadata": {},
   "outputs": [],
   "source": [
    "model2.compile(loss = 'sparse_categorical_crossentropy', \n",
    "               optimizer = 'adam', \n",
    "               metrics = ['accuracy'])"
   ]
  },
  {
   "cell_type": "code",
   "execution_count": 41,
   "metadata": {},
   "outputs": [
    {
     "name": "stdout",
     "output_type": "stream",
     "text": [
      "Epoch 1/20\n",
      "31/31 [==============================] - 8s 189ms/step - loss: 2.7422 - accuracy: 0.1127 - val_loss: 2.6991 - val_accuracy: 0.1324\n",
      "Epoch 2/20\n",
      "31/31 [==============================] - 5s 149ms/step - loss: 2.6441 - accuracy: 0.1645 - val_loss: 2.6188 - val_accuracy: 0.1489\n",
      "Epoch 3/20\n",
      "31/31 [==============================] - 4s 145ms/step - loss: 2.4814 - accuracy: 0.2650 - val_loss: 2.4547 - val_accuracy: 0.2246\n",
      "Epoch 4/20\n",
      "31/31 [==============================] - 5s 148ms/step - loss: 2.2471 - accuracy: 0.3746 - val_loss: 2.2441 - val_accuracy: 0.4019\n",
      "Epoch 5/20\n",
      "31/31 [==============================] - 4s 136ms/step - loss: 1.9479 - accuracy: 0.5574 - val_loss: 2.0049 - val_accuracy: 0.5035\n",
      "Epoch 6/20\n",
      "31/31 [==============================] - 5s 147ms/step - loss: 1.6336 - accuracy: 0.6853 - val_loss: 1.7755 - val_accuracy: 0.5603\n",
      "Epoch 7/20\n",
      "31/31 [==============================] - 5s 146ms/step - loss: 1.3478 - accuracy: 0.7584 - val_loss: 1.5910 - val_accuracy: 0.5887\n",
      "Epoch 8/20\n",
      "31/31 [==============================] - 4s 142ms/step - loss: 1.1146 - accuracy: 0.7980 - val_loss: 1.4153 - val_accuracy: 0.6619\n",
      "Epoch 9/20\n",
      "31/31 [==============================] - 4s 143ms/step - loss: 0.9251 - accuracy: 0.8670 - val_loss: 1.2775 - val_accuracy: 0.7400\n",
      "Epoch 10/20\n",
      "31/31 [==============================] - 5s 150ms/step - loss: 0.7690 - accuracy: 0.8863 - val_loss: 1.1942 - val_accuracy: 0.6927\n",
      "Epoch 11/20\n",
      "31/31 [==============================] - 4s 133ms/step - loss: 0.6535 - accuracy: 0.8954 - val_loss: 1.1001 - val_accuracy: 0.7730\n",
      "Epoch 12/20\n",
      "31/31 [==============================] - 4s 128ms/step - loss: 0.5738 - accuracy: 0.9025 - val_loss: 1.0583 - val_accuracy: 0.7234\n",
      "Epoch 13/20\n",
      "31/31 [==============================] - 4s 141ms/step - loss: 0.4931 - accuracy: 0.9289 - val_loss: 0.9962 - val_accuracy: 0.7754\n",
      "Epoch 14/20\n",
      "31/31 [==============================] - 4s 126ms/step - loss: 0.4364 - accuracy: 0.9279 - val_loss: 0.9605 - val_accuracy: 0.7612\n",
      "Epoch 15/20\n",
      "31/31 [==============================] - 4s 128ms/step - loss: 0.3859 - accuracy: 0.9411 - val_loss: 0.9269 - val_accuracy: 0.7778\n",
      "Epoch 16/20\n",
      "31/31 [==============================] - 4s 128ms/step - loss: 0.3423 - accuracy: 0.9472 - val_loss: 0.8792 - val_accuracy: 0.7967\n",
      "Epoch 17/20\n",
      "31/31 [==============================] - 4s 133ms/step - loss: 0.3108 - accuracy: 0.9543 - val_loss: 0.8650 - val_accuracy: 0.7801\n",
      "Epoch 18/20\n",
      "31/31 [==============================] - 4s 127ms/step - loss: 0.2847 - accuracy: 0.9533 - val_loss: 0.8453 - val_accuracy: 0.7967\n",
      "Epoch 19/20\n",
      "31/31 [==============================] - 4s 137ms/step - loss: 0.2554 - accuracy: 0.9675 - val_loss: 0.8222 - val_accuracy: 0.8298\n",
      "Epoch 20/20\n",
      "31/31 [==============================] - 4s 119ms/step - loss: 0.2339 - accuracy: 0.9685 - val_loss: 0.8034 - val_accuracy: 0.8132\n"
     ]
    }
   ],
   "source": [
    "h2 = model2.fit(X_train, y_train, epochs = 20, validation_data = (X_test, y_test))"
   ]
  },
  {
   "cell_type": "markdown",
   "metadata": {},
   "source": [
    "## Dropout layer "
   ]
  },
  {
   "cell_type": "code",
   "execution_count": 46,
   "metadata": {},
   "outputs": [
    {
     "name": "stdout",
     "output_type": "stream",
     "text": [
      "Model: \"model_3\"\n",
      "_________________________________________________________________\n",
      " Layer (type)                Output Shape              Param #   \n",
      "=================================================================\n",
      " input_7 (InputLayer)        [(None, 1)]               0         \n",
      "                                                                 \n",
      " text_vectorization (TextVe  (None, 1679)              0         \n",
      " ctorization)                                                    \n",
      "                                                                 \n",
      " embedding_6 (Embedding)     (None, 1679, 128)         6089600   \n",
      "                                                                 \n",
      " conv1d_7 (Conv1D)           (None, 1679, 32)          20512     \n",
      "                                                                 \n",
      " global_max_pooling1d (Glob  (None, 32)                0         \n",
      " alMaxPooling1D)                                                 \n",
      "                                                                 \n",
      " dropout (Dropout)           (None, 32)                0         \n",
      "                                                                 \n",
      " dense_4 (Dense)             (None, 16)                528       \n",
      "                                                                 \n",
      "=================================================================\n",
      "Total params: 6110640 (23.31 MB)\n",
      "Trainable params: 6110640 (23.31 MB)\n",
      "Non-trainable params: 0 (0.00 Byte)\n",
      "_________________________________________________________________\n"
     ]
    }
   ],
   "source": [
    "\n",
    "inputs = layers.Input(shape = (1, ), dtype = tf.string)\n",
    "text_vectorizer = text_vectorization(inputs)\n",
    "embed = layers.Embedding(output_dim = 128, \n",
    "                        input_dim = len(words),\n",
    "                        input_length = 1660)(text_vectorizer)\n",
    "x = layers.Conv1D(32, kernel_size = 5, padding = \"same\")(embed)\n",
    "x = layers.GlobalMaxPooling1D()(x)\n",
    "# Dropout layer \n",
    "x = layers.Dropout(0.7)(x)\n",
    "outputs = layers.Dense(16, activation = 'softmax')(x)\n",
    "\n",
    "model3 = tf.keras.Model(inputs, outputs)\n",
    "model3.summary()"
   ]
  },
  {
   "cell_type": "code",
   "execution_count": 47,
   "metadata": {},
   "outputs": [],
   "source": [
    "\n",
    "model3.compile(loss = 'sparse_categorical_crossentropy', \n",
    "               optimizer = 'adam', \n",
    "               metrics = ['accuracy'])"
   ]
  },
  {
   "cell_type": "code",
   "execution_count": 48,
   "metadata": {},
   "outputs": [
    {
     "name": "stdout",
     "output_type": "stream",
     "text": [
      "Epoch 1/20\n",
      "31/31 [==============================] - 9s 182ms/step - loss: 2.7656 - accuracy: 0.0741 - val_loss: 2.7390 - val_accuracy: 0.0851\n",
      "Epoch 2/20\n",
      "31/31 [==============================] - 5s 155ms/step - loss: 2.6684 - accuracy: 0.1279 - val_loss: 2.6968 - val_accuracy: 0.1560\n",
      "Epoch 3/20\n",
      "31/31 [==============================] - 5s 150ms/step - loss: 2.5553 - accuracy: 0.2030 - val_loss: 2.6412 - val_accuracy: 0.2246\n",
      "Epoch 4/20\n",
      "31/31 [==============================] - 4s 143ms/step - loss: 2.4494 - accuracy: 0.2487 - val_loss: 2.5757 - val_accuracy: 0.2766\n",
      "Epoch 5/20\n",
      "31/31 [==============================] - 5s 151ms/step - loss: 2.3080 - accuracy: 0.3046 - val_loss: 2.4906 - val_accuracy: 0.3901\n",
      "Epoch 6/20\n",
      "31/31 [==============================] - 5s 160ms/step - loss: 2.1846 - accuracy: 0.3431 - val_loss: 2.3861 - val_accuracy: 0.4704\n",
      "Epoch 7/20\n",
      "31/31 [==============================] - 5s 158ms/step - loss: 2.0637 - accuracy: 0.3716 - val_loss: 2.2972 - val_accuracy: 0.5437\n",
      "Epoch 8/20\n",
      "31/31 [==============================] - 4s 144ms/step - loss: 1.9732 - accuracy: 0.3898 - val_loss: 2.2092 - val_accuracy: 0.5839\n",
      "Epoch 9/20\n",
      "31/31 [==============================] - 4s 125ms/step - loss: 1.7982 - accuracy: 0.4629 - val_loss: 2.1261 - val_accuracy: 0.5887\n",
      "Epoch 10/20\n",
      "31/31 [==============================] - 5s 145ms/step - loss: 1.7160 - accuracy: 0.4924 - val_loss: 2.0455 - val_accuracy: 0.6288\n",
      "Epoch 11/20\n",
      "31/31 [==============================] - 4s 143ms/step - loss: 1.5860 - accuracy: 0.5330 - val_loss: 1.9725 - val_accuracy: 0.6336\n",
      "Epoch 12/20\n",
      "31/31 [==============================] - 4s 139ms/step - loss: 1.4852 - accuracy: 0.5797 - val_loss: 1.8938 - val_accuracy: 0.6525\n",
      "Epoch 13/20\n",
      "31/31 [==============================] - 4s 123ms/step - loss: 1.3319 - accuracy: 0.6477 - val_loss: 1.8154 - val_accuracy: 0.6714\n",
      "Epoch 14/20\n",
      "31/31 [==============================] - 4s 136ms/step - loss: 1.2716 - accuracy: 0.6457 - val_loss: 1.7584 - val_accuracy: 0.6903\n",
      "Epoch 15/20\n",
      "31/31 [==============================] - 4s 122ms/step - loss: 1.1250 - accuracy: 0.6975 - val_loss: 1.6999 - val_accuracy: 0.6950\n",
      "Epoch 16/20\n",
      "31/31 [==============================] - 4s 138ms/step - loss: 1.0495 - accuracy: 0.7381 - val_loss: 1.6476 - val_accuracy: 0.6927\n",
      "Epoch 17/20\n",
      "31/31 [==============================] - 4s 135ms/step - loss: 0.9642 - accuracy: 0.7848 - val_loss: 1.5957 - val_accuracy: 0.7069\n",
      "Epoch 18/20\n",
      "31/31 [==============================] - 4s 140ms/step - loss: 0.9267 - accuracy: 0.7614 - val_loss: 1.5580 - val_accuracy: 0.7092\n",
      "Epoch 19/20\n",
      "31/31 [==============================] - 4s 136ms/step - loss: 0.8231 - accuracy: 0.8102 - val_loss: 1.5146 - val_accuracy: 0.7163\n",
      "Epoch 20/20\n",
      "31/31 [==============================] - 3s 111ms/step - loss: 0.7270 - accuracy: 0.8416 - val_loss: 1.4873 - val_accuracy: 0.7234\n"
     ]
    }
   ],
   "source": [
    "h3 = model3.fit(X_train, y_train, epochs = 20, validation_data = (X_test, y_test))"
   ]
  }
 ],
 "metadata": {
  "kernelspec": {
   "display_name": ".venv",
   "language": "python",
   "name": "python3"
  },
  "language_info": {
   "codemirror_mode": {
    "name": "ipython",
    "version": 3
   },
   "file_extension": ".py",
   "mimetype": "text/x-python",
   "name": "python",
   "nbconvert_exporter": "python",
   "pygments_lexer": "ipython3",
   "version": "3.10.9"
  }
 },
 "nbformat": 4,
 "nbformat_minor": 2
}
